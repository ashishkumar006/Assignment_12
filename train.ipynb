{
  "nbformat": 4,
  "nbformat_minor": 0,
  "metadata": {
    "colab": {
      "provenance": [],
      "gpuType": "T4"
    },
    "kernelspec": {
      "name": "python3",
      "display_name": "Python 3"
    },
    "language_info": {
      "name": "python"
    },
    "accelerator": "GPU"
  },
  "cells": [
    {
      "cell_type": "code",
      "source": [
        "!pip install tiktoken"
      ],
      "metadata": {
        "colab": {
          "base_uri": "https://localhost:8080/"
        },
        "id": "KX6ka7F1qNIj",
        "outputId": "0a88fc37-c291-4b98-f6e7-dedfb8ea4e5b"
      },
      "execution_count": null,
      "outputs": [
        {
          "output_type": "stream",
          "name": "stdout",
          "text": [
            "Collecting tiktoken\n",
            "  Downloading tiktoken-0.8.0-cp311-cp311-manylinux_2_17_x86_64.manylinux2014_x86_64.whl.metadata (6.6 kB)\n",
            "Requirement already satisfied: regex>=2022.1.18 in /usr/local/lib/python3.11/dist-packages (from tiktoken) (2024.11.6)\n",
            "Requirement already satisfied: requests>=2.26.0 in /usr/local/lib/python3.11/dist-packages (from tiktoken) (2.32.3)\n",
            "Requirement already satisfied: charset-normalizer<4,>=2 in /usr/local/lib/python3.11/dist-packages (from requests>=2.26.0->tiktoken) (3.4.1)\n",
            "Requirement already satisfied: idna<4,>=2.5 in /usr/local/lib/python3.11/dist-packages (from requests>=2.26.0->tiktoken) (3.10)\n",
            "Requirement already satisfied: urllib3<3,>=1.21.1 in /usr/local/lib/python3.11/dist-packages (from requests>=2.26.0->tiktoken) (2.3.0)\n",
            "Requirement already satisfied: certifi>=2017.4.17 in /usr/local/lib/python3.11/dist-packages (from requests>=2.26.0->tiktoken) (2024.12.14)\n",
            "Downloading tiktoken-0.8.0-cp311-cp311-manylinux_2_17_x86_64.manylinux2014_x86_64.whl (1.2 MB)\n",
            "\u001b[2K   \u001b[90m━━━━━━━━━━━━━━━━━━━━━━━━━━━━━━━━━━━━━━━━\u001b[0m \u001b[32m1.2/1.2 MB\u001b[0m \u001b[31m25.0 MB/s\u001b[0m eta \u001b[36m0:00:00\u001b[0m\n",
            "\u001b[?25hInstalling collected packages: tiktoken\n",
            "Successfully installed tiktoken-0.8.0\n"
          ]
        }
      ]
    },
    {
      "cell_type": "code",
      "source": [],
      "metadata": {
        "id": "UZ3qwu4FqSXq"
      },
      "execution_count": null,
      "outputs": []
    },
    {
      "cell_type": "code",
      "execution_count": null,
      "metadata": {
        "colab": {
          "base_uri": "https://localhost:8080/",
          "height": 1000
        },
        "id": "WMERgwXxoZBd",
        "outputId": "3cda76e3-4600-4d7f-b904-85acb2bf5b6b"
      },
      "outputs": [
        {
          "output_type": "stream",
          "name": "stderr",
          "text": [
            "<ipython-input-2-883d3a1c47f3>:145: FutureWarning: `torch.cuda.amp.GradScaler(args...)` is deprecated. Please use `torch.amp.GradScaler('cuda', args...)` instead.\n",
            "  scaler = GradScaler()\n"
          ]
        },
        {
          "output_type": "stream",
          "name": "stdout",
          "text": [
            "Number of trainable parameters: 203,668,480\n"
          ]
        },
        {
          "output_type": "stream",
          "name": "stderr",
          "text": [
            "\r  0%|          | 0/165 [00:00<?, ?it/s]<ipython-input-2-883d3a1c47f3>:177: FutureWarning: `torch.cuda.amp.autocast(args...)` is deprecated. Please use `torch.amp.autocast('cuda', args...)` instead.\n",
            "  with autocast():\n",
            "Epoch 1/200 - Loss: 6.052705 - Accuracy: 17.92%: 100%|██████████| 165/165 [00:47<00:00,  3.48it/s]\n"
          ]
        },
        {
          "output_type": "stream",
          "name": "stdout",
          "text": [
            "Epoch 1 Complete: Average Loss = 6.655091, Average Accuracy = 13.06%\n"
          ]
        },
        {
          "output_type": "stream",
          "name": "stderr",
          "text": [
            "Epoch 2/200 - Loss: 5.513403 - Accuracy: 20.85%: 100%|██████████| 165/165 [00:47<00:00,  3.44it/s]\n"
          ]
        },
        {
          "output_type": "stream",
          "name": "stdout",
          "text": [
            "Epoch 2 Complete: Average Loss = 5.724089, Average Accuracy = 17.27%\n",
            "Model saved after Epoch 2\n"
          ]
        },
        {
          "output_type": "stream",
          "name": "stderr",
          "text": [
            "Epoch 3/200 - Loss: 5.176640 - Accuracy: 21.44%: 100%|██████████| 165/165 [00:49<00:00,  3.35it/s]\n"
          ]
        },
        {
          "output_type": "stream",
          "name": "stdout",
          "text": [
            "Epoch 3 Complete: Average Loss = 5.356712, Average Accuracy = 18.86%\n"
          ]
        },
        {
          "output_type": "stream",
          "name": "stderr",
          "text": [
            "Epoch 4/200 - Loss: 4.908785 - Accuracy: 22.12%: 100%|██████████| 165/165 [00:48<00:00,  3.39it/s]\n"
          ]
        },
        {
          "output_type": "stream",
          "name": "stdout",
          "text": [
            "Epoch 4 Complete: Average Loss = 5.059195, Average Accuracy = 20.33%\n",
            "Model saved after Epoch 4\n"
          ]
        },
        {
          "output_type": "stream",
          "name": "stderr",
          "text": [
            "Epoch 5/200 - Loss: 4.722197 - Accuracy: 24.51%: 100%|██████████| 165/165 [00:49<00:00,  3.35it/s]\n"
          ]
        },
        {
          "output_type": "stream",
          "name": "stdout",
          "text": [
            "Epoch 5 Complete: Average Loss = 4.833605, Average Accuracy = 21.85%\n"
          ]
        },
        {
          "output_type": "stream",
          "name": "stderr",
          "text": [
            "Epoch 6/200 - Loss: 4.543072 - Accuracy: 25.83%: 100%|██████████| 165/165 [00:48<00:00,  3.39it/s]\n"
          ]
        },
        {
          "output_type": "stream",
          "name": "stdout",
          "text": [
            "Epoch 6 Complete: Average Loss = 4.680102, Average Accuracy = 23.22%\n",
            "Model saved after Epoch 6\n"
          ]
        },
        {
          "output_type": "stream",
          "name": "stderr",
          "text": [
            "Epoch 7/200 - Loss: 4.387027 - Accuracy: 26.95%: 100%|██████████| 165/165 [00:49<00:00,  3.36it/s]\n"
          ]
        },
        {
          "output_type": "stream",
          "name": "stdout",
          "text": [
            "Epoch 7 Complete: Average Loss = 4.543137, Average Accuracy = 24.46%\n"
          ]
        },
        {
          "output_type": "stream",
          "name": "stderr",
          "text": [
            "Epoch 8/200 - Loss: 4.246301 - Accuracy: 28.61%: 100%|██████████| 165/165 [00:48<00:00,  3.39it/s]\n"
          ]
        },
        {
          "output_type": "stream",
          "name": "stdout",
          "text": [
            "Epoch 8 Complete: Average Loss = 4.430372, Average Accuracy = 25.57%\n",
            "Model saved after Epoch 8\n"
          ]
        },
        {
          "output_type": "stream",
          "name": "stderr",
          "text": [
            "Epoch 9/200 - Loss: 4.108156 - Accuracy: 29.93%: 100%|██████████| 165/165 [00:49<00:00,  3.36it/s]\n"
          ]
        },
        {
          "output_type": "stream",
          "name": "stdout",
          "text": [
            "Epoch 9 Complete: Average Loss = 4.317351, Average Accuracy = 26.64%\n"
          ]
        },
        {
          "output_type": "stream",
          "name": "stderr",
          "text": [
            "Epoch 10/200 - Loss: 3.983847 - Accuracy: 30.96%: 100%|██████████| 165/165 [00:48<00:00,  3.39it/s]\n"
          ]
        },
        {
          "output_type": "stream",
          "name": "stdout",
          "text": [
            "Epoch 10 Complete: Average Loss = 4.194217, Average Accuracy = 27.68%\n",
            "Model saved after Epoch 10\n"
          ]
        },
        {
          "output_type": "stream",
          "name": "stderr",
          "text": [
            "Epoch 11/200 - Loss: 3.834943 - Accuracy: 33.25%: 100%|██████████| 165/165 [00:49<00:00,  3.36it/s]\n"
          ]
        },
        {
          "output_type": "stream",
          "name": "stdout",
          "text": [
            "Epoch 11 Complete: Average Loss = 4.076782, Average Accuracy = 28.80%\n"
          ]
        },
        {
          "output_type": "stream",
          "name": "stderr",
          "text": [
            "Epoch 12/200 - Loss: 3.784020 - Accuracy: 32.76%: 100%|██████████| 165/165 [00:48<00:00,  3.39it/s]\n"
          ]
        },
        {
          "output_type": "stream",
          "name": "stdout",
          "text": [
            "Epoch 12 Complete: Average Loss = 3.975849, Average Accuracy = 29.86%\n",
            "Model saved after Epoch 12\n"
          ]
        },
        {
          "output_type": "stream",
          "name": "stderr",
          "text": [
            "Epoch 13/200 - Loss: 3.648687 - Accuracy: 34.86%: 100%|██████████| 165/165 [00:49<00:00,  3.36it/s]\n"
          ]
        },
        {
          "output_type": "stream",
          "name": "stdout",
          "text": [
            "Epoch 13 Complete: Average Loss = 3.891437, Average Accuracy = 30.66%\n"
          ]
        },
        {
          "output_type": "stream",
          "name": "stderr",
          "text": [
            "Epoch 14/200 - Loss: 3.559650 - Accuracy: 35.45%: 100%|██████████| 165/165 [00:48<00:00,  3.40it/s]\n"
          ]
        },
        {
          "output_type": "stream",
          "name": "stdout",
          "text": [
            "Epoch 14 Complete: Average Loss = 3.806384, Average Accuracy = 31.48%\n",
            "Model saved after Epoch 14\n"
          ]
        },
        {
          "output_type": "stream",
          "name": "stderr",
          "text": [
            "Epoch 15/200 - Loss: 3.481542 - Accuracy: 36.57%: 100%|██████████| 165/165 [00:48<00:00,  3.37it/s]\n"
          ]
        },
        {
          "output_type": "stream",
          "name": "stdout",
          "text": [
            "Epoch 15 Complete: Average Loss = 3.719236, Average Accuracy = 32.43%\n"
          ]
        },
        {
          "output_type": "stream",
          "name": "stderr",
          "text": [
            "Epoch 16/200 - Loss: 3.368174 - Accuracy: 37.55%: 100%|██████████| 165/165 [00:48<00:00,  3.39it/s]\n"
          ]
        },
        {
          "output_type": "stream",
          "name": "stdout",
          "text": [
            "Epoch 16 Complete: Average Loss = 3.638821, Average Accuracy = 33.15%\n",
            "Model saved after Epoch 16\n"
          ]
        },
        {
          "output_type": "stream",
          "name": "stderr",
          "text": [
            "Epoch 17/200 - Loss: 3.285975 - Accuracy: 37.94%: 100%|██████████| 165/165 [00:47<00:00,  3.45it/s]\n"
          ]
        },
        {
          "output_type": "stream",
          "name": "stdout",
          "text": [
            "Epoch 17 Complete: Average Loss = 3.547185, Average Accuracy = 33.97%\n"
          ]
        },
        {
          "output_type": "stream",
          "name": "stderr",
          "text": [
            "Epoch 18/200 - Loss: 3.252765 - Accuracy: 38.82%: 100%|██████████| 165/165 [00:48<00:00,  3.43it/s]\n"
          ]
        },
        {
          "output_type": "stream",
          "name": "stdout",
          "text": [
            "Epoch 18 Complete: Average Loss = 3.474102, Average Accuracy = 34.66%\n",
            "Model saved after Epoch 18\n"
          ]
        },
        {
          "output_type": "stream",
          "name": "stderr",
          "text": [
            "Epoch 19/200 - Loss: 3.196387 - Accuracy: 38.77%: 100%|██████████| 165/165 [00:48<00:00,  3.43it/s]\n"
          ]
        },
        {
          "output_type": "stream",
          "name": "stdout",
          "text": [
            "Epoch 19 Complete: Average Loss = 3.408320, Average Accuracy = 35.24%\n"
          ]
        },
        {
          "output_type": "stream",
          "name": "stderr",
          "text": [
            "Epoch 20/200 - Loss: 3.144306 - Accuracy: 39.21%: 100%|██████████| 165/165 [00:48<00:00,  3.42it/s]\n"
          ]
        },
        {
          "output_type": "stream",
          "name": "stdout",
          "text": [
            "Epoch 20 Complete: Average Loss = 3.355458, Average Accuracy = 35.86%\n",
            "Model saved after Epoch 20\n"
          ]
        },
        {
          "output_type": "stream",
          "name": "stderr",
          "text": [
            "Epoch 21/200 - Loss: 3.103904 - Accuracy: 39.21%: 100%|██████████| 165/165 [00:48<00:00,  3.43it/s]\n"
          ]
        },
        {
          "output_type": "stream",
          "name": "stdout",
          "text": [
            "Epoch 21 Complete: Average Loss = 3.314957, Average Accuracy = 36.12%\n"
          ]
        },
        {
          "output_type": "stream",
          "name": "stderr",
          "text": [
            "Epoch 22/200 - Loss: 3.038669 - Accuracy: 40.38%: 100%|██████████| 165/165 [00:48<00:00,  3.42it/s]\n"
          ]
        },
        {
          "output_type": "stream",
          "name": "stdout",
          "text": [
            "Epoch 22 Complete: Average Loss = 3.256821, Average Accuracy = 36.59%\n",
            "Model saved after Epoch 22\n"
          ]
        },
        {
          "output_type": "stream",
          "name": "stderr",
          "text": [
            "Epoch 23/200 - Loss: 3.023093 - Accuracy: 39.99%: 100%|██████████| 165/165 [00:48<00:00,  3.43it/s]\n"
          ]
        },
        {
          "output_type": "stream",
          "name": "stdout",
          "text": [
            "Epoch 23 Complete: Average Loss = 3.226529, Average Accuracy = 36.84%\n"
          ]
        },
        {
          "output_type": "stream",
          "name": "stderr",
          "text": [
            "Epoch 24/200 - Loss: 2.996262 - Accuracy: 39.89%: 100%|██████████| 165/165 [00:48<00:00,  3.42it/s]\n"
          ]
        },
        {
          "output_type": "stream",
          "name": "stdout",
          "text": [
            "Epoch 24 Complete: Average Loss = 3.264684, Average Accuracy = 36.16%\n",
            "Model saved after Epoch 24\n"
          ]
        },
        {
          "output_type": "stream",
          "name": "stderr",
          "text": [
            "Epoch 25/200 - Loss: 3.026088 - Accuracy: 40.14%: 100%|██████████| 165/165 [00:48<00:00,  3.43it/s]\n"
          ]
        },
        {
          "output_type": "stream",
          "name": "stdout",
          "text": [
            "Epoch 25 Complete: Average Loss = 3.285902, Average Accuracy = 35.74%\n"
          ]
        },
        {
          "output_type": "stream",
          "name": "stderr",
          "text": [
            "Epoch 26/200 - Loss: 3.084871 - Accuracy: 39.01%: 100%|██████████| 165/165 [00:48<00:00,  3.41it/s]\n"
          ]
        },
        {
          "output_type": "stream",
          "name": "stdout",
          "text": [
            "Epoch 26 Complete: Average Loss = 3.319550, Average Accuracy = 35.18%\n",
            "Model saved after Epoch 26\n"
          ]
        },
        {
          "output_type": "stream",
          "name": "stderr",
          "text": [
            "Epoch 27/200 - Loss: 3.080973 - Accuracy: 38.77%: 100%|██████████| 165/165 [00:48<00:00,  3.42it/s]\n"
          ]
        },
        {
          "output_type": "stream",
          "name": "stdout",
          "text": [
            "Epoch 27 Complete: Average Loss = 3.377278, Average Accuracy = 34.34%\n"
          ]
        },
        {
          "output_type": "stream",
          "name": "stderr",
          "text": [
            "Epoch 28/200 - Loss: 3.012961 - Accuracy: 40.62%: 100%|██████████| 165/165 [00:48<00:00,  3.42it/s]\n"
          ]
        },
        {
          "output_type": "stream",
          "name": "stdout",
          "text": [
            "Epoch 28 Complete: Average Loss = 3.319641, Average Accuracy = 34.88%\n",
            "Model saved after Epoch 28\n"
          ]
        },
        {
          "output_type": "stream",
          "name": "stderr",
          "text": [
            "Epoch 29/200 - Loss: 2.984856 - Accuracy: 40.48%: 100%|██████████| 165/165 [00:48<00:00,  3.43it/s]\n"
          ]
        },
        {
          "output_type": "stream",
          "name": "stdout",
          "text": [
            "Epoch 29 Complete: Average Loss = 3.241012, Average Accuracy = 35.77%\n"
          ]
        },
        {
          "output_type": "stream",
          "name": "stderr",
          "text": [
            "Epoch 30/200 - Loss: 2.951032 - Accuracy: 40.67%: 100%|██████████| 165/165 [00:48<00:00,  3.38it/s]\n"
          ]
        },
        {
          "output_type": "stream",
          "name": "stdout",
          "text": [
            "Epoch 30 Complete: Average Loss = 3.231607, Average Accuracy = 35.78%\n",
            "Model saved after Epoch 30\n"
          ]
        },
        {
          "output_type": "stream",
          "name": "stderr",
          "text": [
            "Epoch 31/200 - Loss: 2.937482 - Accuracy: 39.84%: 100%|██████████| 165/165 [00:48<00:00,  3.38it/s]\n"
          ]
        },
        {
          "output_type": "stream",
          "name": "stdout",
          "text": [
            "Epoch 31 Complete: Average Loss = 3.215522, Average Accuracy = 35.75%\n"
          ]
        },
        {
          "output_type": "stream",
          "name": "stderr",
          "text": [
            "Epoch 32/200 - Loss: 2.987158 - Accuracy: 39.79%: 100%|██████████| 165/165 [00:48<00:00,  3.41it/s]\n"
          ]
        },
        {
          "output_type": "stream",
          "name": "stdout",
          "text": [
            "Epoch 32 Complete: Average Loss = 3.227467, Average Accuracy = 35.47%\n",
            "Model saved after Epoch 32\n"
          ]
        },
        {
          "output_type": "stream",
          "name": "stderr",
          "text": [
            "Epoch 33/200 - Loss: 2.943540 - Accuracy: 40.58%: 100%|██████████| 165/165 [00:48<00:00,  3.38it/s]\n"
          ]
        },
        {
          "output_type": "stream",
          "name": "stdout",
          "text": [
            "Epoch 33 Complete: Average Loss = 3.200461, Average Accuracy = 35.78%\n"
          ]
        },
        {
          "output_type": "stream",
          "name": "stderr",
          "text": [
            "Epoch 34/200 - Loss: 2.987813 - Accuracy: 38.77%: 100%|██████████| 165/165 [00:48<00:00,  3.42it/s]\n"
          ]
        },
        {
          "output_type": "stream",
          "name": "stdout",
          "text": [
            "Epoch 34 Complete: Average Loss = 3.199029, Average Accuracy = 35.54%\n",
            "Model saved after Epoch 34\n"
          ]
        },
        {
          "output_type": "stream",
          "name": "stderr",
          "text": [
            "Epoch 35/200 - Loss: 2.973783 - Accuracy: 39.16%: 100%|██████████| 165/165 [00:48<00:00,  3.38it/s]\n"
          ]
        },
        {
          "output_type": "stream",
          "name": "stdout",
          "text": [
            "Epoch 35 Complete: Average Loss = 3.214527, Average Accuracy = 35.30%\n"
          ]
        },
        {
          "output_type": "stream",
          "name": "stderr",
          "text": [
            "Epoch 36/200 - Loss: 2.938540 - Accuracy: 40.67%: 100%|██████████| 165/165 [00:48<00:00,  3.43it/s]\n"
          ]
        },
        {
          "output_type": "stream",
          "name": "stdout",
          "text": [
            "Epoch 36 Complete: Average Loss = 3.223604, Average Accuracy = 35.01%\n",
            "Model saved after Epoch 36\n"
          ]
        },
        {
          "output_type": "stream",
          "name": "stderr",
          "text": [
            "Epoch 37/200 - Loss: 2.892686 - Accuracy: 39.45%: 100%|██████████| 165/165 [00:48<00:00,  3.38it/s]\n"
          ]
        },
        {
          "output_type": "stream",
          "name": "stdout",
          "text": [
            "Epoch 37 Complete: Average Loss = 3.172881, Average Accuracy = 35.52%\n"
          ]
        },
        {
          "output_type": "stream",
          "name": "stderr",
          "text": [
            "Epoch 38/200 - Loss: 2.850626 - Accuracy: 41.16%: 100%|██████████| 165/165 [00:48<00:00,  3.42it/s]\n"
          ]
        },
        {
          "output_type": "stream",
          "name": "stdout",
          "text": [
            "Epoch 38 Complete: Average Loss = 3.091690, Average Accuracy = 36.43%\n",
            "Model saved after Epoch 38\n"
          ]
        },
        {
          "output_type": "stream",
          "name": "stderr",
          "text": [
            "Epoch 39/200 - Loss: 2.779316 - Accuracy: 41.31%: 100%|██████████| 165/165 [00:48<00:00,  3.39it/s]\n"
          ]
        },
        {
          "output_type": "stream",
          "name": "stdout",
          "text": [
            "Epoch 39 Complete: Average Loss = 3.067785, Average Accuracy = 36.56%\n"
          ]
        },
        {
          "output_type": "stream",
          "name": "stderr",
          "text": [
            "Epoch 40/200 - Loss: 2.762010 - Accuracy: 41.31%: 100%|██████████| 165/165 [00:48<00:00,  3.42it/s]\n"
          ]
        },
        {
          "output_type": "stream",
          "name": "stdout",
          "text": [
            "Epoch 40 Complete: Average Loss = 3.021264, Average Accuracy = 37.09%\n",
            "Model saved after Epoch 40\n"
          ]
        },
        {
          "output_type": "stream",
          "name": "stderr",
          "text": [
            "Epoch 41/200 - Loss: 2.741572 - Accuracy: 41.80%: 100%|██████████| 165/165 [00:48<00:00,  3.40it/s]\n"
          ]
        },
        {
          "output_type": "stream",
          "name": "stdout",
          "text": [
            "Epoch 41 Complete: Average Loss = 3.000669, Average Accuracy = 37.28%\n"
          ]
        },
        {
          "output_type": "stream",
          "name": "stderr",
          "text": [
            "Epoch 42/200 - Loss: 2.696124 - Accuracy: 42.43%: 100%|██████████| 165/165 [00:48<00:00,  3.42it/s]\n"
          ]
        },
        {
          "output_type": "stream",
          "name": "stdout",
          "text": [
            "Epoch 42 Complete: Average Loss = 2.944925, Average Accuracy = 37.85%\n",
            "Model saved after Epoch 42\n"
          ]
        },
        {
          "output_type": "stream",
          "name": "stderr",
          "text": [
            "Epoch 43/200 - Loss: 2.610130 - Accuracy: 42.82%: 100%|██████████| 165/165 [00:48<00:00,  3.39it/s]\n"
          ]
        },
        {
          "output_type": "stream",
          "name": "stdout",
          "text": [
            "Epoch 43 Complete: Average Loss = 2.890767, Average Accuracy = 38.43%\n"
          ]
        },
        {
          "output_type": "stream",
          "name": "stderr",
          "text": [
            "Epoch 44/200 - Loss: 2.501151 - Accuracy: 44.97%: 100%|██████████| 165/165 [00:48<00:00,  3.43it/s]\n"
          ]
        },
        {
          "output_type": "stream",
          "name": "stdout",
          "text": [
            "Epoch 44 Complete: Average Loss = 2.806621, Average Accuracy = 39.50%\n",
            "Model saved after Epoch 44\n"
          ]
        },
        {
          "output_type": "stream",
          "name": "stderr",
          "text": [
            "Epoch 45/200 - Loss: 2.406761 - Accuracy: 46.68%: 100%|██████████| 165/165 [00:48<00:00,  3.41it/s]\n"
          ]
        },
        {
          "output_type": "stream",
          "name": "stdout",
          "text": [
            "Epoch 45 Complete: Average Loss = 2.710048, Average Accuracy = 40.88%\n"
          ]
        },
        {
          "output_type": "stream",
          "name": "stderr",
          "text": [
            "Epoch 46/200 - Loss: 2.308814 - Accuracy: 47.80%: 100%|██████████| 165/165 [00:48<00:00,  3.42it/s]\n"
          ]
        },
        {
          "output_type": "stream",
          "name": "stdout",
          "text": [
            "Epoch 46 Complete: Average Loss = 2.616700, Average Accuracy = 42.06%\n",
            "Model saved after Epoch 46\n"
          ]
        },
        {
          "output_type": "stream",
          "name": "stderr",
          "text": [
            "Epoch 47/200 - Loss: 2.291755 - Accuracy: 48.24%: 100%|██████████| 165/165 [00:48<00:00,  3.40it/s]\n"
          ]
        },
        {
          "output_type": "stream",
          "name": "stdout",
          "text": [
            "Epoch 47 Complete: Average Loss = 2.512887, Average Accuracy = 43.48%\n"
          ]
        },
        {
          "output_type": "stream",
          "name": "stderr",
          "text": [
            "Epoch 48/200 - Loss: 2.282526 - Accuracy: 46.48%: 100%|██████████| 165/165 [00:48<00:00,  3.43it/s]\n"
          ]
        },
        {
          "output_type": "stream",
          "name": "stdout",
          "text": [
            "Epoch 48 Complete: Average Loss = 2.499916, Average Accuracy = 43.66%\n",
            "Model saved after Epoch 48\n"
          ]
        },
        {
          "output_type": "stream",
          "name": "stderr",
          "text": [
            "Epoch 49/200 - Loss: 2.278864 - Accuracy: 47.51%: 100%|██████████| 165/165 [00:48<00:00,  3.39it/s]\n"
          ]
        },
        {
          "output_type": "stream",
          "name": "stdout",
          "text": [
            "Epoch 49 Complete: Average Loss = 2.464531, Average Accuracy = 44.01%\n"
          ]
        },
        {
          "output_type": "stream",
          "name": "stderr",
          "text": [
            "Epoch 50/200 - Loss: 2.133234 - Accuracy: 50.00%: 100%|██████████| 165/165 [00:48<00:00,  3.43it/s]\n"
          ]
        },
        {
          "output_type": "stream",
          "name": "stdout",
          "text": [
            "Epoch 50 Complete: Average Loss = 2.359999, Average Accuracy = 45.58%\n",
            "Model saved after Epoch 50\n"
          ]
        },
        {
          "output_type": "stream",
          "name": "stderr",
          "text": [
            "Epoch 51/200 - Loss: 1.979641 - Accuracy: 52.88%: 100%|██████████| 165/165 [00:48<00:00,  3.39it/s]\n"
          ]
        },
        {
          "output_type": "stream",
          "name": "stdout",
          "text": [
            "Epoch 51 Complete: Average Loss = 2.245202, Average Accuracy = 47.47%\n"
          ]
        },
        {
          "output_type": "stream",
          "name": "stderr",
          "text": [
            "Epoch 52/200 - Loss: 1.893902 - Accuracy: 53.81%: 100%|██████████| 165/165 [00:48<00:00,  3.43it/s]\n"
          ]
        },
        {
          "output_type": "stream",
          "name": "stdout",
          "text": [
            "Epoch 52 Complete: Average Loss = 2.126785, Average Accuracy = 49.51%\n",
            "Model saved after Epoch 52\n"
          ]
        },
        {
          "output_type": "stream",
          "name": "stderr",
          "text": [
            "Epoch 53/200 - Loss: 1.742552 - Accuracy: 57.81%: 100%|██████████| 165/165 [00:48<00:00,  3.40it/s]\n"
          ]
        },
        {
          "output_type": "stream",
          "name": "stdout",
          "text": [
            "Epoch 53 Complete: Average Loss = 2.001453, Average Accuracy = 51.82%\n"
          ]
        },
        {
          "output_type": "stream",
          "name": "stderr",
          "text": [
            "Epoch 54/200 - Loss: 1.715018 - Accuracy: 56.49%: 100%|██████████| 165/165 [00:48<00:00,  3.43it/s]\n"
          ]
        },
        {
          "output_type": "stream",
          "name": "stdout",
          "text": [
            "Epoch 54 Complete: Average Loss = 1.900424, Average Accuracy = 53.55%\n",
            "Model saved after Epoch 54\n"
          ]
        },
        {
          "output_type": "stream",
          "name": "stderr",
          "text": [
            "Epoch 55/200 - Loss: 1.605411 - Accuracy: 59.67%: 100%|██████████| 165/165 [00:48<00:00,  3.39it/s]\n"
          ]
        },
        {
          "output_type": "stream",
          "name": "stdout",
          "text": [
            "Epoch 55 Complete: Average Loss = 1.780649, Average Accuracy = 55.78%\n"
          ]
        },
        {
          "output_type": "stream",
          "name": "stderr",
          "text": [
            "Epoch 56/200 - Loss: 1.443317 - Accuracy: 62.60%: 100%|██████████| 165/165 [00:48<00:00,  3.44it/s]\n"
          ]
        },
        {
          "output_type": "stream",
          "name": "stdout",
          "text": [
            "Epoch 56 Complete: Average Loss = 1.678253, Average Accuracy = 57.75%\n",
            "Model saved after Epoch 56\n"
          ]
        },
        {
          "output_type": "stream",
          "name": "stderr",
          "text": [
            "Epoch 57/200 - Loss: 1.336854 - Accuracy: 65.48%: 100%|██████████| 165/165 [00:48<00:00,  3.39it/s]\n"
          ]
        },
        {
          "output_type": "stream",
          "name": "stdout",
          "text": [
            "Epoch 57 Complete: Average Loss = 1.541705, Average Accuracy = 60.63%\n"
          ]
        },
        {
          "output_type": "stream",
          "name": "stderr",
          "text": [
            "Epoch 58/200 - Loss: 1.239382 - Accuracy: 65.38%: 100%|██████████| 165/165 [00:48<00:00,  3.43it/s]\n"
          ]
        },
        {
          "output_type": "stream",
          "name": "stdout",
          "text": [
            "Epoch 58 Complete: Average Loss = 1.424818, Average Accuracy = 63.14%\n",
            "Model saved after Epoch 58\n"
          ]
        },
        {
          "output_type": "stream",
          "name": "stderr",
          "text": [
            "Epoch 59/200 - Loss: 1.230950 - Accuracy: 67.24%: 100%|██████████| 165/165 [00:48<00:00,  3.39it/s]\n"
          ]
        },
        {
          "output_type": "stream",
          "name": "stdout",
          "text": [
            "Epoch 59 Complete: Average Loss = 1.293512, Average Accuracy = 66.10%\n"
          ]
        },
        {
          "output_type": "stream",
          "name": "stderr",
          "text": [
            "Epoch 60/200 - Loss: 1.169675 - Accuracy: 68.12%: 100%|██████████| 165/165 [00:48<00:00,  3.43it/s]\n"
          ]
        },
        {
          "output_type": "stream",
          "name": "stdout",
          "text": [
            "Epoch 60 Complete: Average Loss = 1.189191, Average Accuracy = 68.61%\n",
            "Model saved after Epoch 60\n"
          ]
        },
        {
          "output_type": "stream",
          "name": "stderr",
          "text": [
            "Epoch 61/200 - Loss: 1.044148 - Accuracy: 71.19%: 100%|██████████| 165/165 [00:48<00:00,  3.39it/s]\n"
          ]
        },
        {
          "output_type": "stream",
          "name": "stdout",
          "text": [
            "Epoch 61 Complete: Average Loss = 1.086724, Average Accuracy = 70.96%\n"
          ]
        },
        {
          "output_type": "stream",
          "name": "stderr",
          "text": [
            "Epoch 62/200 - Loss: 1.021625 - Accuracy: 75.00%: 100%|██████████| 165/165 [00:48<00:00,  3.43it/s]\n"
          ]
        },
        {
          "output_type": "stream",
          "name": "stdout",
          "text": [
            "Epoch 62 Complete: Average Loss = 0.988162, Average Accuracy = 73.46%\n",
            "Model saved after Epoch 62\n"
          ]
        },
        {
          "output_type": "stream",
          "name": "stderr",
          "text": [
            "Epoch 63/200 - Loss: 0.882030 - Accuracy: 75.49%: 100%|██████████| 165/165 [00:48<00:00,  3.40it/s]\n"
          ]
        },
        {
          "output_type": "stream",
          "name": "stdout",
          "text": [
            "Epoch 63 Complete: Average Loss = 0.936014, Average Accuracy = 74.60%\n"
          ]
        },
        {
          "output_type": "stream",
          "name": "stderr",
          "text": [
            "Epoch 64/200 - Loss: 0.886215 - Accuracy: 74.85%: 100%|██████████| 165/165 [00:47<00:00,  3.44it/s]\n"
          ]
        },
        {
          "output_type": "stream",
          "name": "stdout",
          "text": [
            "Epoch 64 Complete: Average Loss = 0.871416, Average Accuracy = 76.16%\n",
            "Model saved after Epoch 64\n"
          ]
        },
        {
          "output_type": "stream",
          "name": "stderr",
          "text": [
            "Epoch 65/200 - Loss: 0.720709 - Accuracy: 81.20%: 100%|██████████| 165/165 [00:48<00:00,  3.40it/s]\n"
          ]
        },
        {
          "output_type": "stream",
          "name": "stdout",
          "text": [
            "Epoch 65 Complete: Average Loss = 0.788283, Average Accuracy = 78.35%\n"
          ]
        },
        {
          "output_type": "stream",
          "name": "stderr",
          "text": [
            "Epoch 66/200 - Loss: 0.663786 - Accuracy: 83.40%: 100%|██████████| 165/165 [00:48<00:00,  3.43it/s]\n"
          ]
        },
        {
          "output_type": "stream",
          "name": "stdout",
          "text": [
            "Epoch 66 Complete: Average Loss = 0.690410, Average Accuracy = 81.08%\n",
            "Model saved after Epoch 66\n"
          ]
        },
        {
          "output_type": "stream",
          "name": "stderr",
          "text": [
            "Epoch 67/200 - Loss: 0.673675 - Accuracy: 82.52%: 100%|██████████| 165/165 [00:48<00:00,  3.39it/s]\n"
          ]
        },
        {
          "output_type": "stream",
          "name": "stdout",
          "text": [
            "Epoch 67 Complete: Average Loss = 0.626140, Average Accuracy = 82.86%\n"
          ]
        },
        {
          "output_type": "stream",
          "name": "stderr",
          "text": [
            "Epoch 68/200 - Loss: 0.575431 - Accuracy: 85.60%: 100%|██████████| 165/165 [00:48<00:00,  3.43it/s]\n"
          ]
        },
        {
          "output_type": "stream",
          "name": "stdout",
          "text": [
            "Epoch 68 Complete: Average Loss = 0.564656, Average Accuracy = 84.62%\n",
            "Model saved after Epoch 68\n"
          ]
        },
        {
          "output_type": "stream",
          "name": "stderr",
          "text": [
            "Epoch 69/200 - Loss: 0.569431 - Accuracy: 84.62%: 100%|██████████| 165/165 [00:48<00:00,  3.40it/s]\n"
          ]
        },
        {
          "output_type": "stream",
          "name": "stdout",
          "text": [
            "Epoch 69 Complete: Average Loss = 0.512422, Average Accuracy = 86.09%\n"
          ]
        },
        {
          "output_type": "stream",
          "name": "stderr",
          "text": [
            "Epoch 70/200 - Loss: 0.548066 - Accuracy: 84.96%: 100%|██████████| 165/165 [00:47<00:00,  3.44it/s]\n"
          ]
        },
        {
          "output_type": "stream",
          "name": "stdout",
          "text": [
            "Epoch 70 Complete: Average Loss = 0.466987, Average Accuracy = 87.36%\n",
            "Model saved after Epoch 70\n"
          ]
        },
        {
          "output_type": "stream",
          "name": "stderr",
          "text": [
            "Epoch 71/200 - Loss: 0.476850 - Accuracy: 88.13%: 100%|██████████| 165/165 [00:48<00:00,  3.40it/s]\n"
          ]
        },
        {
          "output_type": "stream",
          "name": "stdout",
          "text": [
            "Epoch 71 Complete: Average Loss = 0.420528, Average Accuracy = 88.70%\n"
          ]
        },
        {
          "output_type": "stream",
          "name": "stderr",
          "text": [
            "Epoch 72/200 - Loss: 0.416150 - Accuracy: 88.53%: 100%|██████████| 165/165 [00:48<00:00,  3.43it/s]\n"
          ]
        },
        {
          "output_type": "stream",
          "name": "stdout",
          "text": [
            "Epoch 72 Complete: Average Loss = 0.375737, Average Accuracy = 89.93%\n",
            "Model saved after Epoch 72\n"
          ]
        },
        {
          "output_type": "stream",
          "name": "stderr",
          "text": [
            "Epoch 73/200 - Loss: 0.421405 - Accuracy: 89.26%: 100%|██████████| 165/165 [00:48<00:00,  3.41it/s]\n"
          ]
        },
        {
          "output_type": "stream",
          "name": "stdout",
          "text": [
            "Epoch 73 Complete: Average Loss = 0.340205, Average Accuracy = 90.93%\n"
          ]
        },
        {
          "output_type": "stream",
          "name": "stderr",
          "text": [
            "Epoch 74/200 - Loss: 0.389859 - Accuracy: 91.02%: 100%|██████████| 165/165 [00:48<00:00,  3.43it/s]\n"
          ]
        },
        {
          "output_type": "stream",
          "name": "stdout",
          "text": [
            "Epoch 74 Complete: Average Loss = 0.327094, Average Accuracy = 91.37%\n",
            "Model saved after Epoch 74\n"
          ]
        },
        {
          "output_type": "stream",
          "name": "stderr",
          "text": [
            "Epoch 75/200 - Loss: 0.368750 - Accuracy: 90.33%: 100%|██████████| 165/165 [00:48<00:00,  3.41it/s]\n"
          ]
        },
        {
          "output_type": "stream",
          "name": "stdout",
          "text": [
            "Epoch 75 Complete: Average Loss = 0.301933, Average Accuracy = 92.03%\n"
          ]
        },
        {
          "output_type": "stream",
          "name": "stderr",
          "text": [
            "Epoch 76/200 - Loss: 0.351848 - Accuracy: 91.80%: 100%|██████████| 165/165 [00:48<00:00,  3.43it/s]\n"
          ]
        },
        {
          "output_type": "stream",
          "name": "stdout",
          "text": [
            "Epoch 76 Complete: Average Loss = 0.286069, Average Accuracy = 92.42%\n",
            "Model saved after Epoch 76\n"
          ]
        },
        {
          "output_type": "stream",
          "name": "stderr",
          "text": [
            "Epoch 77/200 - Loss: 0.355329 - Accuracy: 90.43%: 100%|██████████| 165/165 [00:48<00:00,  3.39it/s]\n"
          ]
        },
        {
          "output_type": "stream",
          "name": "stdout",
          "text": [
            "Epoch 77 Complete: Average Loss = 0.277790, Average Accuracy = 92.60%\n"
          ]
        },
        {
          "output_type": "stream",
          "name": "stderr",
          "text": [
            "Epoch 78/200 - Loss: 0.307954 - Accuracy: 91.70%: 100%|██████████| 165/165 [00:48<00:00,  3.44it/s]\n"
          ]
        },
        {
          "output_type": "stream",
          "name": "stdout",
          "text": [
            "Epoch 78 Complete: Average Loss = 0.269991, Average Accuracy = 92.80%\n",
            "Model saved after Epoch 78\n"
          ]
        },
        {
          "output_type": "stream",
          "name": "stderr",
          "text": [
            "Epoch 79/200 - Loss: 0.307057 - Accuracy: 92.43%: 100%|██████████| 165/165 [00:48<00:00,  3.40it/s]\n"
          ]
        },
        {
          "output_type": "stream",
          "name": "stdout",
          "text": [
            "Epoch 79 Complete: Average Loss = 0.257221, Average Accuracy = 93.17%\n"
          ]
        },
        {
          "output_type": "stream",
          "name": "stderr",
          "text": [
            "Epoch 80/200 - Loss: 0.333657 - Accuracy: 91.89%: 100%|██████████| 165/165 [00:48<00:00,  3.42it/s]\n"
          ]
        },
        {
          "output_type": "stream",
          "name": "stdout",
          "text": [
            "Epoch 80 Complete: Average Loss = 0.242368, Average Accuracy = 93.55%\n",
            "Model saved after Epoch 80\n"
          ]
        },
        {
          "output_type": "stream",
          "name": "stderr",
          "text": [
            "Epoch 81/200 - Loss: 0.326756 - Accuracy: 91.85%: 100%|██████████| 165/165 [00:48<00:00,  3.39it/s]\n"
          ]
        },
        {
          "output_type": "stream",
          "name": "stdout",
          "text": [
            "Epoch 81 Complete: Average Loss = 0.231491, Average Accuracy = 93.85%\n"
          ]
        },
        {
          "output_type": "stream",
          "name": "stderr",
          "text": [
            "Epoch 82/200 - Loss: 0.239758 - Accuracy: 93.55%: 100%|██████████| 165/165 [00:47<00:00,  3.45it/s]\n"
          ]
        },
        {
          "output_type": "stream",
          "name": "stdout",
          "text": [
            "Epoch 82 Complete: Average Loss = 0.224045, Average Accuracy = 94.05%\n",
            "Model saved after Epoch 82\n"
          ]
        },
        {
          "output_type": "stream",
          "name": "stderr",
          "text": [
            "Epoch 83/200 - Loss: 0.248347 - Accuracy: 93.85%: 100%|██████████| 165/165 [00:48<00:00,  3.39it/s]\n"
          ]
        },
        {
          "output_type": "stream",
          "name": "stdout",
          "text": [
            "Epoch 83 Complete: Average Loss = 0.200663, Average Accuracy = 94.80%\n"
          ]
        },
        {
          "output_type": "stream",
          "name": "stderr",
          "text": [
            "Epoch 84/200 - Loss: 0.185470 - Accuracy: 95.17%: 100%|██████████| 165/165 [00:48<00:00,  3.43it/s]\n"
          ]
        },
        {
          "output_type": "stream",
          "name": "stdout",
          "text": [
            "Epoch 84 Complete: Average Loss = 0.182701, Average Accuracy = 95.26%\n",
            "Model saved after Epoch 84\n"
          ]
        },
        {
          "output_type": "stream",
          "name": "stderr",
          "text": [
            "Epoch 85/200 - Loss: 0.221148 - Accuracy: 94.87%: 100%|██████████| 165/165 [00:48<00:00,  3.39it/s]\n"
          ]
        },
        {
          "output_type": "stream",
          "name": "stdout",
          "text": [
            "Epoch 85 Complete: Average Loss = 0.170063, Average Accuracy = 95.67%\n"
          ]
        },
        {
          "output_type": "stream",
          "name": "stderr",
          "text": [
            "Epoch 86/200 - Loss: 0.192595 - Accuracy: 94.82%: 100%|██████████| 165/165 [00:48<00:00,  3.43it/s]\n"
          ]
        },
        {
          "output_type": "stream",
          "name": "stdout",
          "text": [
            "Epoch 86 Complete: Average Loss = 0.161994, Average Accuracy = 95.86%\n",
            "Model saved after Epoch 86\n"
          ]
        },
        {
          "output_type": "stream",
          "name": "stderr",
          "text": [
            "Epoch 87/200 - Loss: 0.190807 - Accuracy: 95.31%: 100%|██████████| 165/165 [00:48<00:00,  3.39it/s]\n"
          ]
        },
        {
          "output_type": "stream",
          "name": "stdout",
          "text": [
            "Epoch 87 Complete: Average Loss = 0.162081, Average Accuracy = 95.93%\n"
          ]
        },
        {
          "output_type": "stream",
          "name": "stderr",
          "text": [
            "Epoch 88/200 - Loss: 0.151298 - Accuracy: 95.85%: 100%|██████████| 165/165 [00:48<00:00,  3.43it/s]\n"
          ]
        },
        {
          "output_type": "stream",
          "name": "stdout",
          "text": [
            "Epoch 88 Complete: Average Loss = 0.153563, Average Accuracy = 96.09%\n",
            "Model saved after Epoch 88\n"
          ]
        },
        {
          "output_type": "stream",
          "name": "stderr",
          "text": [
            "Epoch 89/200 - Loss: 0.150860 - Accuracy: 96.34%: 100%|██████████| 165/165 [00:48<00:00,  3.40it/s]\n"
          ]
        },
        {
          "output_type": "stream",
          "name": "stdout",
          "text": [
            "Epoch 89 Complete: Average Loss = 0.152144, Average Accuracy = 96.16%\n"
          ]
        },
        {
          "output_type": "stream",
          "name": "stderr",
          "text": [
            "Epoch 90/200 - Loss: 0.175152 - Accuracy: 94.78%: 100%|██████████| 165/165 [00:48<00:00,  3.43it/s]\n"
          ]
        },
        {
          "output_type": "stream",
          "name": "stdout",
          "text": [
            "Epoch 90 Complete: Average Loss = 0.160296, Average Accuracy = 95.83%\n",
            "Model saved after Epoch 90\n"
          ]
        },
        {
          "output_type": "stream",
          "name": "stderr",
          "text": [
            "Epoch 91/200 - Loss: 0.180721 - Accuracy: 94.92%: 100%|██████████| 165/165 [00:48<00:00,  3.41it/s]\n"
          ]
        },
        {
          "output_type": "stream",
          "name": "stdout",
          "text": [
            "Epoch 91 Complete: Average Loss = 0.165337, Average Accuracy = 95.64%\n"
          ]
        },
        {
          "output_type": "stream",
          "name": "stderr",
          "text": [
            "Epoch 92/200 - Loss: 0.204789 - Accuracy: 94.38%: 100%|██████████| 165/165 [00:48<00:00,  3.42it/s]\n"
          ]
        },
        {
          "output_type": "stream",
          "name": "stdout",
          "text": [
            "Epoch 92 Complete: Average Loss = 0.164360, Average Accuracy = 95.62%\n",
            "Model saved after Epoch 92\n"
          ]
        },
        {
          "output_type": "stream",
          "name": "stderr",
          "text": [
            "Epoch 93/200 - Loss: 0.218509 - Accuracy: 94.68%: 100%|██████████| 165/165 [00:48<00:00,  3.39it/s]\n"
          ]
        },
        {
          "output_type": "stream",
          "name": "stdout",
          "text": [
            "Epoch 93 Complete: Average Loss = 0.167378, Average Accuracy = 95.54%\n"
          ]
        },
        {
          "output_type": "stream",
          "name": "stderr",
          "text": [
            "Epoch 94/200 - Loss: 0.179745 - Accuracy: 94.68%: 100%|██████████| 165/165 [00:48<00:00,  3.43it/s]\n"
          ]
        },
        {
          "output_type": "stream",
          "name": "stdout",
          "text": [
            "Epoch 94 Complete: Average Loss = 0.173651, Average Accuracy = 95.35%\n",
            "Model saved after Epoch 94\n"
          ]
        },
        {
          "output_type": "stream",
          "name": "stderr",
          "text": [
            "Epoch 95/200 - Loss: 0.198001 - Accuracy: 95.51%: 100%|██████████| 165/165 [00:48<00:00,  3.40it/s]\n"
          ]
        },
        {
          "output_type": "stream",
          "name": "stdout",
          "text": [
            "Epoch 95 Complete: Average Loss = 0.167996, Average Accuracy = 95.48%\n"
          ]
        },
        {
          "output_type": "stream",
          "name": "stderr",
          "text": [
            "Epoch 96/200 - Loss: 0.173545 - Accuracy: 95.46%: 100%|██████████| 165/165 [00:48<00:00,  3.43it/s]\n"
          ]
        },
        {
          "output_type": "stream",
          "name": "stdout",
          "text": [
            "Epoch 96 Complete: Average Loss = 0.160090, Average Accuracy = 95.74%\n",
            "Model saved after Epoch 96\n"
          ]
        },
        {
          "output_type": "stream",
          "name": "stderr",
          "text": [
            "Epoch 97/200 - Loss: 0.176610 - Accuracy: 95.26%: 100%|██████████| 165/165 [00:48<00:00,  3.39it/s]\n"
          ]
        },
        {
          "output_type": "stream",
          "name": "stdout",
          "text": [
            "Epoch 97 Complete: Average Loss = 0.148600, Average Accuracy = 96.06%\n"
          ]
        },
        {
          "output_type": "stream",
          "name": "stderr",
          "text": [
            "Epoch 98/200 - Loss: 0.169134 - Accuracy: 95.21%: 100%|██████████| 165/165 [00:48<00:00,  3.44it/s]\n"
          ]
        },
        {
          "output_type": "stream",
          "name": "stdout",
          "text": [
            "Epoch 98 Complete: Average Loss = 0.140171, Average Accuracy = 96.29%\n",
            "Model saved after Epoch 98\n"
          ]
        },
        {
          "output_type": "stream",
          "name": "stderr",
          "text": [
            "Epoch 99/200 - Loss: 0.170999 - Accuracy: 95.41%: 100%|██████████| 165/165 [00:48<00:00,  3.40it/s]\n"
          ]
        },
        {
          "output_type": "stream",
          "name": "stdout",
          "text": [
            "Epoch 99 Complete: Average Loss = 0.135144, Average Accuracy = 96.45%\n"
          ]
        },
        {
          "output_type": "stream",
          "name": "stderr",
          "text": [
            "Epoch 100/200 - Loss: 0.119899 - Accuracy: 96.73%: 100%|██████████| 165/165 [00:48<00:00,  3.43it/s]\n"
          ]
        },
        {
          "output_type": "stream",
          "name": "stdout",
          "text": [
            "Epoch 100 Complete: Average Loss = 0.127409, Average Accuracy = 96.69%\n",
            "Model saved after Epoch 100\n"
          ]
        },
        {
          "output_type": "stream",
          "name": "stderr",
          "text": [
            "Epoch 101/200 - Loss: 0.143427 - Accuracy: 96.68%: 100%|██████████| 165/165 [00:48<00:00,  3.39it/s]\n"
          ]
        },
        {
          "output_type": "stream",
          "name": "stdout",
          "text": [
            "Epoch 101 Complete: Average Loss = 0.118770, Average Accuracy = 96.94%\n"
          ]
        },
        {
          "output_type": "stream",
          "name": "stderr",
          "text": [
            "Epoch 102/200 - Loss: 0.116070 - Accuracy: 97.12%: 100%|██████████| 165/165 [00:48<00:00,  3.43it/s]\n"
          ]
        },
        {
          "output_type": "stream",
          "name": "stdout",
          "text": [
            "Epoch 102 Complete: Average Loss = 0.111579, Average Accuracy = 97.13%\n",
            "Model saved after Epoch 102\n"
          ]
        },
        {
          "output_type": "stream",
          "name": "stderr",
          "text": [
            "Epoch 103/200 - Loss: 0.121212 - Accuracy: 97.12%: 100%|██████████| 165/165 [00:48<00:00,  3.39it/s]\n"
          ]
        },
        {
          "output_type": "stream",
          "name": "stdout",
          "text": [
            "Epoch 103 Complete: Average Loss = 0.102957, Average Accuracy = 97.40%\n"
          ]
        },
        {
          "output_type": "stream",
          "name": "stderr",
          "text": [
            "Epoch 104/200 - Loss: 0.081952 - Accuracy: 98.00%: 100%|██████████| 165/165 [00:48<00:00,  3.43it/s]\n"
          ]
        },
        {
          "output_type": "stream",
          "name": "stdout",
          "text": [
            "Epoch 104 Complete: Average Loss = 0.096855, Average Accuracy = 97.59%\n",
            "Model saved after Epoch 104\n",
            "Loss below threshold (0.099999). Continuing for 5 extra epochs.\n"
          ]
        },
        {
          "output_type": "stream",
          "name": "stderr",
          "text": [
            "Epoch 105/205 - Loss: 0.104370 - Accuracy: 97.22%: 100%|██████████| 165/165 [00:48<00:00,  3.40it/s]\n"
          ]
        },
        {
          "output_type": "stream",
          "name": "stdout",
          "text": [
            "Epoch 105 Complete: Average Loss = 0.098965, Average Accuracy = 97.54%\n"
          ]
        },
        {
          "output_type": "stream",
          "name": "stderr",
          "text": [
            "Epoch 106/205 - Loss: 0.103861 - Accuracy: 97.17%: 100%|██████████| 165/165 [00:48<00:00,  3.43it/s]\n"
          ]
        },
        {
          "output_type": "stream",
          "name": "stdout",
          "text": [
            "Epoch 106 Complete: Average Loss = 0.101708, Average Accuracy = 97.45%\n",
            "Model saved after Epoch 106\n"
          ]
        },
        {
          "output_type": "stream",
          "name": "stderr",
          "text": [
            "Epoch 107/205 - Loss: 0.112440 - Accuracy: 96.97%: 100%|██████████| 165/165 [00:48<00:00,  3.39it/s]\n"
          ]
        },
        {
          "output_type": "stream",
          "name": "stdout",
          "text": [
            "Epoch 107 Complete: Average Loss = 0.105988, Average Accuracy = 97.27%\n"
          ]
        },
        {
          "output_type": "stream",
          "name": "stderr",
          "text": [
            "Epoch 108/205 - Loss: 0.144490 - Accuracy: 95.85%: 100%|██████████| 165/165 [00:48<00:00,  3.43it/s]\n"
          ]
        },
        {
          "output_type": "stream",
          "name": "stdout",
          "text": [
            "Epoch 108 Complete: Average Loss = 0.119705, Average Accuracy = 96.85%\n",
            "Model saved after Epoch 108\n"
          ]
        },
        {
          "output_type": "stream",
          "name": "stderr",
          "text": [
            "Epoch 109/205 - Loss: 0.165181 - Accuracy: 95.95%: 100%|██████████| 165/165 [00:48<00:00,  3.39it/s]\n"
          ]
        },
        {
          "output_type": "stream",
          "name": "stdout",
          "text": [
            "Epoch 109 Complete: Average Loss = 0.134194, Average Accuracy = 96.39%\n"
          ]
        },
        {
          "output_type": "stream",
          "name": "stderr",
          "text": [
            "Epoch 110/205 - Loss: 0.182647 - Accuracy: 94.68%: 100%|██████████| 165/165 [00:48<00:00,  3.43it/s]\n"
          ]
        },
        {
          "output_type": "stream",
          "name": "stdout",
          "text": [
            "Epoch 110 Complete: Average Loss = 0.140003, Average Accuracy = 96.17%\n",
            "Model saved after Epoch 110\n"
          ]
        },
        {
          "output_type": "stream",
          "name": "stderr",
          "text": [
            "Epoch 111/205 - Loss: 0.204577 - Accuracy: 94.58%: 100%|██████████| 165/165 [00:48<00:00,  3.40it/s]\n"
          ]
        },
        {
          "output_type": "stream",
          "name": "stdout",
          "text": [
            "Epoch 111 Complete: Average Loss = 0.153432, Average Accuracy = 95.78%\n"
          ]
        },
        {
          "output_type": "stream",
          "name": "stderr",
          "text": [
            "Epoch 112/205 - Loss: 0.197709 - Accuracy: 94.63%: 100%|██████████| 165/165 [00:48<00:00,  3.43it/s]\n"
          ]
        },
        {
          "output_type": "stream",
          "name": "stdout",
          "text": [
            "Epoch 112 Complete: Average Loss = 0.154955, Average Accuracy = 95.67%\n",
            "Model saved after Epoch 112\n"
          ]
        },
        {
          "output_type": "stream",
          "name": "stderr",
          "text": [
            "Epoch 113/205 - Loss: 0.131224 - Accuracy: 96.00%: 100%|██████████| 165/165 [00:48<00:00,  3.39it/s]\n"
          ]
        },
        {
          "output_type": "stream",
          "name": "stdout",
          "text": [
            "Epoch 113 Complete: Average Loss = 0.148663, Average Accuracy = 95.83%\n"
          ]
        },
        {
          "output_type": "stream",
          "name": "stderr",
          "text": [
            "Epoch 114/205 - Loss: 0.142194 - Accuracy: 96.24%: 100%|██████████| 165/165 [00:48<00:00,  3.43it/s]\n"
          ]
        },
        {
          "output_type": "stream",
          "name": "stdout",
          "text": [
            "Epoch 114 Complete: Average Loss = 0.130769, Average Accuracy = 96.40%\n",
            "Model saved after Epoch 114\n"
          ]
        },
        {
          "output_type": "stream",
          "name": "stderr",
          "text": [
            "Epoch 115/205 - Loss: 0.093765 - Accuracy: 97.75%: 100%|██████████| 165/165 [00:48<00:00,  3.39it/s]\n"
          ]
        },
        {
          "output_type": "stream",
          "name": "stdout",
          "text": [
            "Epoch 115 Complete: Average Loss = 0.105192, Average Accuracy = 97.19%\n"
          ]
        },
        {
          "output_type": "stream",
          "name": "stderr",
          "text": [
            "Epoch 116/205 - Loss: 0.060470 - Accuracy: 98.58%: 100%|██████████| 165/165 [00:48<00:00,  3.44it/s]\n"
          ]
        },
        {
          "output_type": "stream",
          "name": "stdout",
          "text": [
            "Epoch 116 Complete: Average Loss = 0.085661, Average Accuracy = 97.81%\n",
            "Model saved after Epoch 116\n"
          ]
        },
        {
          "output_type": "stream",
          "name": "stderr",
          "text": [
            "Epoch 117/205 - Loss: 0.058318 - Accuracy: 98.78%: 100%|██████████| 165/165 [00:48<00:00,  3.40it/s]\n"
          ]
        },
        {
          "output_type": "stream",
          "name": "stdout",
          "text": [
            "Epoch 117 Complete: Average Loss = 0.071248, Average Accuracy = 98.22%\n"
          ]
        },
        {
          "output_type": "stream",
          "name": "stderr",
          "text": [
            "Epoch 118/205 - Loss: 0.062684 - Accuracy: 98.63%: 100%|██████████| 165/165 [00:48<00:00,  3.43it/s]\n"
          ]
        },
        {
          "output_type": "stream",
          "name": "stdout",
          "text": [
            "Epoch 118 Complete: Average Loss = 0.062454, Average Accuracy = 98.53%\n",
            "Model saved after Epoch 118\n"
          ]
        },
        {
          "output_type": "stream",
          "name": "stderr",
          "text": [
            "Epoch 119/205 - Loss: 0.054553 - Accuracy: 98.73%: 100%|██████████| 165/165 [00:48<00:00,  3.40it/s]\n"
          ]
        },
        {
          "output_type": "stream",
          "name": "stdout",
          "text": [
            "Epoch 119 Complete: Average Loss = 0.055777, Average Accuracy = 98.72%\n"
          ]
        },
        {
          "output_type": "stream",
          "name": "stderr",
          "text": [
            "Epoch 120/205 - Loss: 0.052164 - Accuracy: 98.78%: 100%|██████████| 165/165 [00:48<00:00,  3.43it/s]\n"
          ]
        },
        {
          "output_type": "stream",
          "name": "stdout",
          "text": [
            "Epoch 120 Complete: Average Loss = 0.056866, Average Accuracy = 98.73%\n",
            "Model saved after Epoch 120\n"
          ]
        },
        {
          "output_type": "stream",
          "name": "stderr",
          "text": [
            "Epoch 121/205 - Loss: 0.073134 - Accuracy: 98.63%: 100%|██████████| 165/165 [00:48<00:00,  3.40it/s]\n"
          ]
        },
        {
          "output_type": "stream",
          "name": "stdout",
          "text": [
            "Epoch 121 Complete: Average Loss = 0.057376, Average Accuracy = 98.70%\n"
          ]
        },
        {
          "output_type": "stream",
          "name": "stderr",
          "text": [
            "Epoch 122/205 - Loss: 0.059354 - Accuracy: 98.58%: 100%|██████████| 165/165 [00:48<00:00,  3.43it/s]\n"
          ]
        },
        {
          "output_type": "stream",
          "name": "stdout",
          "text": [
            "Epoch 122 Complete: Average Loss = 0.063649, Average Accuracy = 98.55%\n",
            "Model saved after Epoch 122\n"
          ]
        },
        {
          "output_type": "stream",
          "name": "stderr",
          "text": [
            "Epoch 123/205 - Loss: 0.067623 - Accuracy: 98.49%: 100%|██████████| 165/165 [00:48<00:00,  3.40it/s]\n"
          ]
        },
        {
          "output_type": "stream",
          "name": "stdout",
          "text": [
            "Epoch 123 Complete: Average Loss = 0.073134, Average Accuracy = 98.24%\n"
          ]
        },
        {
          "output_type": "stream",
          "name": "stderr",
          "text": [
            "Epoch 124/205 - Loss: 0.103249 - Accuracy: 97.80%: 100%|██████████| 165/165 [00:48<00:00,  3.43it/s]\n"
          ]
        },
        {
          "output_type": "stream",
          "name": "stdout",
          "text": [
            "Epoch 124 Complete: Average Loss = 0.087954, Average Accuracy = 97.79%\n",
            "Model saved after Epoch 124\n"
          ]
        },
        {
          "output_type": "stream",
          "name": "stderr",
          "text": [
            "Epoch 125/205 - Loss: 0.148187 - Accuracy: 96.29%: 100%|██████████| 165/165 [00:48<00:00,  3.41it/s]\n"
          ]
        },
        {
          "output_type": "stream",
          "name": "stdout",
          "text": [
            "Epoch 125 Complete: Average Loss = 0.109570, Average Accuracy = 97.13%\n"
          ]
        },
        {
          "output_type": "stream",
          "name": "stderr",
          "text": [
            "Epoch 126/205 - Loss: 0.200991 - Accuracy: 95.36%: 100%|██████████| 165/165 [00:48<00:00,  3.43it/s]\n"
          ]
        },
        {
          "output_type": "stream",
          "name": "stdout",
          "text": [
            "Epoch 126 Complete: Average Loss = 0.134189, Average Accuracy = 96.33%\n",
            "Model saved after Epoch 126\n"
          ]
        },
        {
          "output_type": "stream",
          "name": "stderr",
          "text": [
            "Epoch 127/205 - Loss: 0.144529 - Accuracy: 96.24%: 100%|██████████| 165/165 [00:48<00:00,  3.41it/s]\n"
          ]
        },
        {
          "output_type": "stream",
          "name": "stdout",
          "text": [
            "Epoch 127 Complete: Average Loss = 0.138617, Average Accuracy = 96.18%\n"
          ]
        },
        {
          "output_type": "stream",
          "name": "stderr",
          "text": [
            "Epoch 128/205 - Loss: 0.143186 - Accuracy: 95.85%: 100%|██████████| 165/165 [00:48<00:00,  3.43it/s]\n"
          ]
        },
        {
          "output_type": "stream",
          "name": "stdout",
          "text": [
            "Epoch 128 Complete: Average Loss = 0.129946, Average Accuracy = 96.38%\n",
            "Model saved after Epoch 128\n"
          ]
        },
        {
          "output_type": "stream",
          "name": "stderr",
          "text": [
            "Epoch 129/205 - Loss: 0.122532 - Accuracy: 96.24%: 100%|██████████| 165/165 [00:48<00:00,  3.40it/s]\n"
          ]
        },
        {
          "output_type": "stream",
          "name": "stdout",
          "text": [
            "Epoch 129 Complete: Average Loss = 0.111782, Average Accuracy = 96.93%\n"
          ]
        },
        {
          "output_type": "stream",
          "name": "stderr",
          "text": [
            "Epoch 130/205 - Loss: 0.112769 - Accuracy: 97.80%: 100%|██████████| 165/165 [00:48<00:00,  3.43it/s]\n"
          ]
        },
        {
          "output_type": "stream",
          "name": "stdout",
          "text": [
            "Epoch 130 Complete: Average Loss = 0.089486, Average Accuracy = 97.62%\n",
            "Model saved after Epoch 130\n"
          ]
        },
        {
          "output_type": "stream",
          "name": "stderr",
          "text": [
            "Epoch 131/205 - Loss: 0.083915 - Accuracy: 98.24%: 100%|██████████| 165/165 [00:48<00:00,  3.41it/s]\n"
          ]
        },
        {
          "output_type": "stream",
          "name": "stdout",
          "text": [
            "Epoch 131 Complete: Average Loss = 0.072593, Average Accuracy = 98.13%\n"
          ]
        },
        {
          "output_type": "stream",
          "name": "stderr",
          "text": [
            "Epoch 132/205 - Loss: 0.072820 - Accuracy: 98.05%: 100%|██████████| 165/165 [00:48<00:00,  3.42it/s]\n"
          ]
        },
        {
          "output_type": "stream",
          "name": "stdout",
          "text": [
            "Epoch 132 Complete: Average Loss = 0.059666, Average Accuracy = 98.57%\n",
            "Model saved after Epoch 132\n"
          ]
        },
        {
          "output_type": "stream",
          "name": "stderr",
          "text": [
            "Epoch 133/205 - Loss: 0.065372 - Accuracy: 98.58%: 100%|██████████| 165/165 [00:48<00:00,  3.40it/s]\n"
          ]
        },
        {
          "output_type": "stream",
          "name": "stdout",
          "text": [
            "Epoch 133 Complete: Average Loss = 0.049723, Average Accuracy = 98.85%\n"
          ]
        },
        {
          "output_type": "stream",
          "name": "stderr",
          "text": [
            "Epoch 134/205 - Loss: 0.075788 - Accuracy: 98.05%: 100%|██████████| 165/165 [00:48<00:00,  3.44it/s]\n"
          ]
        },
        {
          "output_type": "stream",
          "name": "stdout",
          "text": [
            "Epoch 134 Complete: Average Loss = 0.044214, Average Accuracy = 99.03%\n",
            "Model saved after Epoch 134\n"
          ]
        },
        {
          "output_type": "stream",
          "name": "stderr",
          "text": [
            "Epoch 135/205 - Loss: 0.055768 - Accuracy: 99.02%: 100%|██████████| 165/165 [00:48<00:00,  3.41it/s]\n"
          ]
        },
        {
          "output_type": "stream",
          "name": "stdout",
          "text": [
            "Epoch 135 Complete: Average Loss = 0.040421, Average Accuracy = 99.14%\n"
          ]
        },
        {
          "output_type": "stream",
          "name": "stderr",
          "text": [
            "Epoch 136/205 - Loss: 0.034768 - Accuracy: 99.12%: 100%|██████████| 165/165 [00:48<00:00,  3.43it/s]\n"
          ]
        },
        {
          "output_type": "stream",
          "name": "stdout",
          "text": [
            "Epoch 136 Complete: Average Loss = 0.039427, Average Accuracy = 99.18%\n",
            "Model saved after Epoch 136\n"
          ]
        },
        {
          "output_type": "stream",
          "name": "stderr",
          "text": [
            "Epoch 137/205 - Loss: 0.044633 - Accuracy: 99.17%: 100%|██████████| 165/165 [00:48<00:00,  3.43it/s]\n"
          ]
        },
        {
          "output_type": "stream",
          "name": "stdout",
          "text": [
            "Epoch 137 Complete: Average Loss = 0.040396, Average Accuracy = 99.14%\n"
          ]
        },
        {
          "output_type": "stream",
          "name": "stderr",
          "text": [
            "Epoch 138/205 - Loss: 0.054099 - Accuracy: 99.02%: 100%|██████████| 165/165 [00:48<00:00,  3.43it/s]\n"
          ]
        },
        {
          "output_type": "stream",
          "name": "stdout",
          "text": [
            "Epoch 138 Complete: Average Loss = 0.044641, Average Accuracy = 99.02%\n",
            "Model saved after Epoch 138\n"
          ]
        },
        {
          "output_type": "stream",
          "name": "stderr",
          "text": [
            "Epoch 139/205 - Loss: 0.067854 - Accuracy: 98.10%: 100%|██████████| 165/165 [00:48<00:00,  3.44it/s]\n"
          ]
        },
        {
          "output_type": "stream",
          "name": "stdout",
          "text": [
            "Epoch 139 Complete: Average Loss = 0.056030, Average Accuracy = 98.69%\n"
          ]
        },
        {
          "output_type": "stream",
          "name": "stderr",
          "text": [
            "Epoch 140/205 - Loss: 0.080376 - Accuracy: 98.00%: 100%|██████████| 165/165 [00:48<00:00,  3.42it/s]\n"
          ]
        },
        {
          "output_type": "stream",
          "name": "stdout",
          "text": [
            "Epoch 140 Complete: Average Loss = 0.081097, Average Accuracy = 98.03%\n",
            "Model saved after Epoch 140\n"
          ]
        },
        {
          "output_type": "stream",
          "name": "stderr",
          "text": [
            "Epoch 141/205 - Loss: 0.144874 - Accuracy: 95.75%: 100%|██████████| 165/165 [00:48<00:00,  3.43it/s]\n"
          ]
        },
        {
          "output_type": "stream",
          "name": "stdout",
          "text": [
            "Epoch 141 Complete: Average Loss = 0.124810, Average Accuracy = 96.64%\n"
          ]
        },
        {
          "output_type": "stream",
          "name": "stderr",
          "text": [
            "Epoch 142/205 - Loss: 0.191763 - Accuracy: 94.14%: 100%|██████████| 165/165 [00:48<00:00,  3.43it/s]\n"
          ]
        },
        {
          "output_type": "stream",
          "name": "stdout",
          "text": [
            "Epoch 142 Complete: Average Loss = 0.171287, Average Accuracy = 95.16%\n",
            "Model saved after Epoch 142\n"
          ]
        },
        {
          "output_type": "stream",
          "name": "stderr",
          "text": [
            "Epoch 143/205 - Loss: 0.135022 - Accuracy: 95.70%: 100%|██████████| 165/165 [00:48<00:00,  3.43it/s]\n"
          ]
        },
        {
          "output_type": "stream",
          "name": "stdout",
          "text": [
            "Epoch 143 Complete: Average Loss = 0.159836, Average Accuracy = 95.45%\n"
          ]
        },
        {
          "output_type": "stream",
          "name": "stderr",
          "text": [
            "Epoch 144/205 - Loss: 0.112320 - Accuracy: 97.07%: 100%|██████████| 165/165 [00:48<00:00,  3.43it/s]\n"
          ]
        },
        {
          "output_type": "stream",
          "name": "stdout",
          "text": [
            "Epoch 144 Complete: Average Loss = 0.117001, Average Accuracy = 96.71%\n",
            "Model saved after Epoch 144\n"
          ]
        },
        {
          "output_type": "stream",
          "name": "stderr",
          "text": [
            "Epoch 145/205 - Loss: 0.062369 - Accuracy: 98.34%: 100%|██████████| 165/165 [00:47<00:00,  3.44it/s]\n"
          ]
        },
        {
          "output_type": "stream",
          "name": "stdout",
          "text": [
            "Epoch 145 Complete: Average Loss = 0.077994, Average Accuracy = 97.90%\n"
          ]
        },
        {
          "output_type": "stream",
          "name": "stderr",
          "text": [
            "Epoch 146/205 - Loss: 0.045685 - Accuracy: 98.68%: 100%|██████████| 165/165 [00:47<00:00,  3.44it/s]\n"
          ]
        },
        {
          "output_type": "stream",
          "name": "stdout",
          "text": [
            "Epoch 146 Complete: Average Loss = 0.054879, Average Accuracy = 98.65%\n",
            "Model saved after Epoch 146\n"
          ]
        },
        {
          "output_type": "stream",
          "name": "stderr",
          "text": [
            "Epoch 147/205 - Loss: 0.039993 - Accuracy: 99.12%: 100%|██████████| 165/165 [00:48<00:00,  3.40it/s]\n"
          ]
        },
        {
          "output_type": "stream",
          "name": "stdout",
          "text": [
            "Epoch 147 Complete: Average Loss = 0.039974, Average Accuracy = 99.06%\n"
          ]
        },
        {
          "output_type": "stream",
          "name": "stderr",
          "text": [
            "Epoch 148/205 - Loss: 0.038084 - Accuracy: 99.17%: 100%|██████████| 165/165 [00:48<00:00,  3.44it/s]\n"
          ]
        },
        {
          "output_type": "stream",
          "name": "stdout",
          "text": [
            "Epoch 148 Complete: Average Loss = 0.035017, Average Accuracy = 99.27%\n",
            "Model saved after Epoch 148\n"
          ]
        },
        {
          "output_type": "stream",
          "name": "stderr",
          "text": [
            "Epoch 149/205 - Loss: 0.042224 - Accuracy: 99.17%: 100%|██████████| 165/165 [00:48<00:00,  3.40it/s]\n"
          ]
        },
        {
          "output_type": "stream",
          "name": "stdout",
          "text": [
            "Epoch 149 Complete: Average Loss = 0.031962, Average Accuracy = 99.35%\n"
          ]
        },
        {
          "output_type": "stream",
          "name": "stderr",
          "text": [
            "Epoch 150/205 - Loss: 0.040059 - Accuracy: 99.22%: 100%|██████████| 165/165 [00:48<00:00,  3.43it/s]\n"
          ]
        },
        {
          "output_type": "stream",
          "name": "stdout",
          "text": [
            "Epoch 150 Complete: Average Loss = 0.031122, Average Accuracy = 99.35%\n",
            "Model saved after Epoch 150\n"
          ]
        },
        {
          "output_type": "stream",
          "name": "stderr",
          "text": [
            "Epoch 151/205 - Loss: 0.042576 - Accuracy: 99.32%: 100%|██████████| 165/165 [00:48<00:00,  3.39it/s]\n"
          ]
        },
        {
          "output_type": "stream",
          "name": "stdout",
          "text": [
            "Epoch 151 Complete: Average Loss = 0.030755, Average Accuracy = 99.38%\n"
          ]
        },
        {
          "output_type": "stream",
          "name": "stderr",
          "text": [
            "Epoch 152/205 - Loss: 0.059887 - Accuracy: 99.12%: 100%|██████████| 165/165 [00:48<00:00,  3.43it/s]\n"
          ]
        },
        {
          "output_type": "stream",
          "name": "stdout",
          "text": [
            "Epoch 152 Complete: Average Loss = 0.031763, Average Accuracy = 99.36%\n",
            "Model saved after Epoch 152\n"
          ]
        },
        {
          "output_type": "stream",
          "name": "stderr",
          "text": [
            "Epoch 153/205 - Loss: 0.084847 - Accuracy: 99.12%: 100%|██████████| 165/165 [00:48<00:00,  3.42it/s]\n"
          ]
        },
        {
          "output_type": "stream",
          "name": "stdout",
          "text": [
            "Epoch 153 Complete: Average Loss = 0.033243, Average Accuracy = 99.30%\n"
          ]
        },
        {
          "output_type": "stream",
          "name": "stderr",
          "text": [
            "Epoch 154/205 - Loss: 0.059653 - Accuracy: 98.97%: 100%|██████████| 165/165 [00:48<00:00,  3.42it/s]\n"
          ]
        },
        {
          "output_type": "stream",
          "name": "stdout",
          "text": [
            "Epoch 154 Complete: Average Loss = 0.040400, Average Accuracy = 99.13%\n",
            "Model saved after Epoch 154\n"
          ]
        },
        {
          "output_type": "stream",
          "name": "stderr",
          "text": [
            "Epoch 155/205 - Loss: 0.067981 - Accuracy: 98.68%: 100%|██████████| 165/165 [00:48<00:00,  3.40it/s]\n"
          ]
        },
        {
          "output_type": "stream",
          "name": "stdout",
          "text": [
            "Epoch 155 Complete: Average Loss = 0.051971, Average Accuracy = 98.80%\n"
          ]
        },
        {
          "output_type": "stream",
          "name": "stderr",
          "text": [
            "Epoch 156/205 - Loss: 0.083084 - Accuracy: 97.41%: 100%|██████████| 165/165 [00:48<00:00,  3.42it/s]\n"
          ]
        },
        {
          "output_type": "stream",
          "name": "stdout",
          "text": [
            "Epoch 156 Complete: Average Loss = 0.075767, Average Accuracy = 98.03%\n",
            "Model saved after Epoch 156\n"
          ]
        },
        {
          "output_type": "stream",
          "name": "stderr",
          "text": [
            "Epoch 157/205 - Loss: 0.138732 - Accuracy: 95.90%: 100%|██████████| 165/165 [00:48<00:00,  3.40it/s]\n"
          ]
        },
        {
          "output_type": "stream",
          "name": "stdout",
          "text": [
            "Epoch 157 Complete: Average Loss = 0.121449, Average Accuracy = 96.68%\n"
          ]
        },
        {
          "output_type": "stream",
          "name": "stderr",
          "text": [
            "Epoch 158/205 - Loss: 0.138407 - Accuracy: 95.41%: 100%|██████████| 165/165 [00:48<00:00,  3.42it/s]\n"
          ]
        },
        {
          "output_type": "stream",
          "name": "stdout",
          "text": [
            "Epoch 158 Complete: Average Loss = 0.159268, Average Accuracy = 95.55%\n",
            "Model saved after Epoch 158\n"
          ]
        },
        {
          "output_type": "stream",
          "name": "stderr",
          "text": [
            "Epoch 159/205 - Loss: 0.104946 - Accuracy: 96.73%: 100%|██████████| 165/165 [00:48<00:00,  3.40it/s]\n"
          ]
        },
        {
          "output_type": "stream",
          "name": "stdout",
          "text": [
            "Epoch 159 Complete: Average Loss = 0.151035, Average Accuracy = 95.74%\n"
          ]
        },
        {
          "output_type": "stream",
          "name": "stderr",
          "text": [
            "Epoch 160/205 - Loss: 0.079812 - Accuracy: 98.00%: 100%|██████████| 165/165 [00:48<00:00,  3.42it/s]\n"
          ]
        },
        {
          "output_type": "stream",
          "name": "stdout",
          "text": [
            "Epoch 160 Complete: Average Loss = 0.103900, Average Accuracy = 97.07%\n",
            "Model saved after Epoch 160\n"
          ]
        },
        {
          "output_type": "stream",
          "name": "stderr",
          "text": [
            "Epoch 161/205 - Loss: 0.055415 - Accuracy: 98.78%: 100%|██████████| 165/165 [00:48<00:00,  3.40it/s]\n"
          ]
        },
        {
          "output_type": "stream",
          "name": "stdout",
          "text": [
            "Epoch 161 Complete: Average Loss = 0.065206, Average Accuracy = 98.25%\n"
          ]
        },
        {
          "output_type": "stream",
          "name": "stderr",
          "text": [
            "Epoch 162/205 - Loss: 0.036992 - Accuracy: 99.17%: 100%|██████████| 165/165 [00:48<00:00,  3.43it/s]\n"
          ]
        },
        {
          "output_type": "stream",
          "name": "stdout",
          "text": [
            "Epoch 162 Complete: Average Loss = 0.043763, Average Accuracy = 98.91%\n",
            "Model saved after Epoch 162\n"
          ]
        },
        {
          "output_type": "stream",
          "name": "stderr",
          "text": [
            "Epoch 163/205 - Loss: 0.033278 - Accuracy: 99.17%: 100%|██████████| 165/165 [00:48<00:00,  3.39it/s]\n"
          ]
        },
        {
          "output_type": "stream",
          "name": "stdout",
          "text": [
            "Epoch 163 Complete: Average Loss = 0.030019, Average Accuracy = 99.33%\n"
          ]
        },
        {
          "output_type": "stream",
          "name": "stderr",
          "text": [
            "Epoch 164/205 - Loss: 0.027007 - Accuracy: 99.41%: 100%|██████████| 165/165 [00:48<00:00,  3.43it/s]\n"
          ]
        },
        {
          "output_type": "stream",
          "name": "stdout",
          "text": [
            "Epoch 164 Complete: Average Loss = 0.022855, Average Accuracy = 99.52%\n",
            "Model saved after Epoch 164\n"
          ]
        },
        {
          "output_type": "stream",
          "name": "stderr",
          "text": [
            "Epoch 165/205 - Loss: 0.023937 - Accuracy: 99.51%: 100%|██████████| 165/165 [00:48<00:00,  3.40it/s]\n"
          ]
        },
        {
          "output_type": "stream",
          "name": "stdout",
          "text": [
            "Epoch 165 Complete: Average Loss = 0.020663, Average Accuracy = 99.60%\n"
          ]
        },
        {
          "output_type": "stream",
          "name": "stderr",
          "text": [
            "Epoch 166/205 - Loss: 0.014241 - Accuracy: 99.61%: 100%|██████████| 165/165 [00:48<00:00,  3.43it/s]\n"
          ]
        },
        {
          "output_type": "stream",
          "name": "stdout",
          "text": [
            "Epoch 166 Complete: Average Loss = 0.018470, Average Accuracy = 99.65%\n",
            "Model saved after Epoch 166\n"
          ]
        },
        {
          "output_type": "stream",
          "name": "stderr",
          "text": [
            "Epoch 167/205 - Loss: 0.021560 - Accuracy: 99.66%: 100%|██████████| 165/165 [00:48<00:00,  3.41it/s]\n"
          ]
        },
        {
          "output_type": "stream",
          "name": "stdout",
          "text": [
            "Epoch 167 Complete: Average Loss = 0.016344, Average Accuracy = 99.68%\n"
          ]
        },
        {
          "output_type": "stream",
          "name": "stderr",
          "text": [
            "Epoch 168/205 - Loss: 0.015927 - Accuracy: 99.56%: 100%|██████████| 165/165 [00:48<00:00,  3.42it/s]\n"
          ]
        },
        {
          "output_type": "stream",
          "name": "stdout",
          "text": [
            "Epoch 168 Complete: Average Loss = 0.015960, Average Accuracy = 99.69%\n",
            "Model saved after Epoch 168\n"
          ]
        },
        {
          "output_type": "stream",
          "name": "stderr",
          "text": [
            "Epoch 169/205 - Loss: 0.013711 - Accuracy: 99.76%: 100%|██████████| 165/165 [00:48<00:00,  3.39it/s]\n"
          ]
        },
        {
          "output_type": "stream",
          "name": "stdout",
          "text": [
            "Epoch 169 Complete: Average Loss = 0.018010, Average Accuracy = 99.65%\n"
          ]
        },
        {
          "output_type": "stream",
          "name": "stderr",
          "text": [
            "Epoch 170/205 - Loss: 0.017755 - Accuracy: 99.56%: 100%|██████████| 165/165 [00:48<00:00,  3.43it/s]\n"
          ]
        },
        {
          "output_type": "stream",
          "name": "stdout",
          "text": [
            "Epoch 170 Complete: Average Loss = 0.026301, Average Accuracy = 99.47%\n",
            "Model saved after Epoch 170\n"
          ]
        },
        {
          "output_type": "stream",
          "name": "stderr",
          "text": [
            "Epoch 171/205 - Loss: 0.042841 - Accuracy: 98.97%: 100%|██████████| 165/165 [00:48<00:00,  3.38it/s]\n"
          ]
        },
        {
          "output_type": "stream",
          "name": "stdout",
          "text": [
            "Epoch 171 Complete: Average Loss = 0.041258, Average Accuracy = 99.10%\n"
          ]
        },
        {
          "output_type": "stream",
          "name": "stderr",
          "text": [
            "Epoch 172/205 - Loss: 0.107759 - Accuracy: 96.58%: 100%|██████████| 165/165 [00:48<00:00,  3.43it/s]\n"
          ]
        },
        {
          "output_type": "stream",
          "name": "stdout",
          "text": [
            "Epoch 172 Complete: Average Loss = 0.091676, Average Accuracy = 97.58%\n",
            "Model saved after Epoch 172\n"
          ]
        },
        {
          "output_type": "stream",
          "name": "stderr",
          "text": [
            "Epoch 173/205 - Loss: 0.168181 - Accuracy: 95.36%: 100%|██████████| 165/165 [00:48<00:00,  3.41it/s]\n"
          ]
        },
        {
          "output_type": "stream",
          "name": "stdout",
          "text": [
            "Epoch 173 Complete: Average Loss = 0.179909, Average Accuracy = 94.93%\n"
          ]
        },
        {
          "output_type": "stream",
          "name": "stderr",
          "text": [
            "Epoch 174/205 - Loss: 0.181719 - Accuracy: 95.12%:  59%|█████▉    | 97/165 [00:28<00:20,  3.38it/s]\n"
          ]
        },
        {
          "output_type": "error",
          "ename": "KeyboardInterrupt",
          "evalue": "",
          "traceback": [
            "\u001b[0;31m---------------------------------------------------------------------------\u001b[0m",
            "\u001b[0;31mKeyboardInterrupt\u001b[0m                         Traceback (most recent call last)",
            "\u001b[0;32m<ipython-input-2-883d3a1c47f3>\u001b[0m in \u001b[0;36m<cell line: 0>\u001b[0;34m()\u001b[0m\n\u001b[1;32m    187\u001b[0m             \u001b[0mscaler\u001b[0m\u001b[0;34m.\u001b[0m\u001b[0mupdate\u001b[0m\u001b[0;34m(\u001b[0m\u001b[0;34m)\u001b[0m\u001b[0;34m\u001b[0m\u001b[0;34m\u001b[0m\u001b[0m\n\u001b[1;32m    188\u001b[0m \u001b[0;34m\u001b[0m\u001b[0m\n\u001b[0;32m--> 189\u001b[0;31m             \u001b[0mepoch_loss\u001b[0m \u001b[0;34m+=\u001b[0m \u001b[0mloss\u001b[0m\u001b[0;34m.\u001b[0m\u001b[0mitem\u001b[0m\u001b[0;34m(\u001b[0m\u001b[0;34m)\u001b[0m\u001b[0;34m\u001b[0m\u001b[0;34m\u001b[0m\u001b[0m\n\u001b[0m\u001b[1;32m    190\u001b[0m             \u001b[0mepoch_accuracy\u001b[0m \u001b[0;34m+=\u001b[0m \u001b[0maccuracy\u001b[0m\u001b[0;34m.\u001b[0m\u001b[0mitem\u001b[0m\u001b[0;34m(\u001b[0m\u001b[0;34m)\u001b[0m  \u001b[0;31m# Accumulate accuracy for the epoch\u001b[0m\u001b[0;34m\u001b[0m\u001b[0;34m\u001b[0m\u001b[0m\n\u001b[1;32m    191\u001b[0m \u001b[0;34m\u001b[0m\u001b[0m\n",
            "\u001b[0;31mKeyboardInterrupt\u001b[0m: "
          ]
        }
      ],
      "source": [
        "import os\n",
        "import time\n",
        "import math\n",
        "import torch\n",
        "import torch.nn as nn\n",
        "import torch.nn.functional as F\n",
        "from tqdm import tqdm\n",
        "import tiktoken  # Added tiktoken import\n",
        "from dataclasses import dataclass\n",
        "from torch.cuda.amp import autocast, GradScaler  # For mixed precision\n",
        "\n",
        "# Model Definition and Configurations (Replace with your GPT model code)\n",
        "class CausalSelfAttention(nn.Module):\n",
        "    def __init__(self, config):\n",
        "        super().__init__()\n",
        "        assert config.n_embd % config.n_head == 0\n",
        "        self.n_head = config.n_head\n",
        "        self.n_embd = config.n_embd\n",
        "        self.c_attn = nn.Linear(config.n_embd, 3 * config.n_embd)\n",
        "        self.c_proj = nn.Linear(config.n_embd, config.n_embd)\n",
        "        self.register_buffer(\"bias\", torch.tril(torch.ones(config.block_size, config.block_size))\n",
        "                             .view(1, 1, config.block_size, config.block_size))\n",
        "\n",
        "    def forward(self, x):\n",
        "        B, T, C = x.size()\n",
        "        qkv = self.c_attn(x)\n",
        "        q, k, v = qkv.split(self.n_embd, dim=2)\n",
        "        k = k.view(B, T, self.n_head, C // self.n_head).transpose(1, 2)\n",
        "        q = q.view(B, T, self.n_head, C // self.n_head).transpose(1, 2)\n",
        "        v = v.view(B, T, self.n_head, C // self.n_head).transpose(1, 2)\n",
        "        att = (q @ k.transpose(-2, -1)) * (1.0 / math.sqrt(k.size(-1)))\n",
        "        att = att.masked_fill(self.bias[:, :, :T, :T] == 0, float('-inf'))\n",
        "        att = F.softmax(att, dim=-1)\n",
        "        y = att @ v\n",
        "        y = y.transpose(1, 2).contiguous().view(B, T, C)\n",
        "        return self.c_proj(y)\n",
        "\n",
        "# Define MLP\n",
        "class MLP(nn.Module):\n",
        "    def __init__(self, config):\n",
        "        super().__init__()\n",
        "        self.c_fc = nn.Linear(config.n_embd, 4 * config.n_embd)\n",
        "        self.gelu = nn.GELU()\n",
        "        self.c_proj = nn.Linear(4 * config.n_embd, config.n_embd)\n",
        "\n",
        "    def forward(self, x):\n",
        "        return self.c_proj(self.gelu(self.c_fc(x)))\n",
        "\n",
        "# Define Block\n",
        "class Block(nn.Module):\n",
        "    def __init__(self, config):\n",
        "        super().__init__()\n",
        "        self.ln_1 = nn.LayerNorm(config.n_embd)\n",
        "        self.attn = CausalSelfAttention(config)\n",
        "        self.ln_2 = nn.LayerNorm(config.n_embd)\n",
        "        self.mlp = MLP(config)\n",
        "\n",
        "    def forward(self, x):\n",
        "        x = x + self.attn(self.ln_1(x))\n",
        "        x = x + self.mlp(self.ln_2(x))\n",
        "        return x\n",
        "\n",
        "# Define GPTConfig with the new parameters\n",
        "@dataclass\n",
        "class GPTConfig:\n",
        "    block_size: int = 1024\n",
        "    vocab_size: int = 50257\n",
        "    n_layer: int = 12    # Set to 12 layers\n",
        "    n_head: int = 16     # Set to 16 attention heads\n",
        "    n_embd: int = 1024   # Set embedding size to 1024      # Adjusted embedding dimension\n",
        "\n",
        "# Define GPT\n",
        "class GPT(nn.Module):\n",
        "    def __init__(self, config):\n",
        "        super().__init__()\n",
        "        self.config = config\n",
        "        self.transformer = nn.ModuleDict(dict(\n",
        "            wte=nn.Embedding(config.vocab_size, config.n_embd),\n",
        "            wpe=nn.Embedding(config.block_size, config.n_embd),\n",
        "            h=nn.ModuleList([Block(config) for _ in range(config.n_layer)]),\n",
        "            ln_f=nn.LayerNorm(config.n_embd),\n",
        "        ))\n",
        "        self.lm_head = nn.Linear(config.n_embd, config.vocab_size, bias=False)\n",
        "        self.transformer.wte.weight = self.lm_head.weight\n",
        "        self.apply(self._init_weights)\n",
        "\n",
        "    def _init_weights(self, module):\n",
        "        if isinstance(module, nn.Linear):\n",
        "            torch.nn.init.normal_(module.weight, mean=0.0, std=0.02)\n",
        "            if module.bias is not None:\n",
        "                torch.nn.init.zeros_(module.bias)\n",
        "        elif isinstance(module, nn.Embedding):\n",
        "            torch.nn.init.normal_(module.weight, mean=0.0, std=0.02)\n",
        "\n",
        "    def forward(self, idx, targets=None):\n",
        "        B, T = idx.size()\n",
        "        assert T <= self.config.block_size\n",
        "        pos = torch.arange(0, T, dtype=torch.long, device=idx.device)\n",
        "        x = self.transformer.wte(idx) + self.transformer.wpe(pos)\n",
        "        for block in self.transformer.h:\n",
        "            x = block(x)\n",
        "        x = self.transformer.ln_f(x)\n",
        "        logits = self.lm_head(x)\n",
        "        loss = F.cross_entropy(logits.view(-1, logits.size(-1)), targets.view(-1)) if targets is not None else None\n",
        "        return logits, loss\n",
        "\n",
        "# DataLoader with tiktoken\n",
        "class DataLoaderLite:\n",
        "    def __init__(self, B, T, data_path, tokenizer_name=\"gpt2\"):\n",
        "        self.B = B\n",
        "        self.T = T\n",
        "        self.tokenizer = tiktoken.get_encoding(tokenizer_name)\n",
        "        with open(data_path, 'r', encoding='utf-8') as f:\n",
        "            text = f.read()\n",
        "        self.tokens = torch.tensor(self.tokenizer.encode(text), dtype=torch.long)\n",
        "        self.current_position = 0\n",
        "\n",
        "    def next_batch(self):\n",
        "      B, T = self.B, self.T\n",
        "      end = self.current_position + B * T + 1\n",
        "      if end > len(self.tokens):\n",
        "          self.current_position = 0  # Reset to the beginning if we exceed data length\n",
        "          end = self.current_position + B * T + 1\n",
        "\n",
        "      buf = self.tokens[self.current_position:end]\n",
        "      self.current_position += B * T\n",
        "\n",
        "      # Ensure the buffer length matches the batch size requirements\n",
        "      if len(buf) < B * T + 1:  # If insufficient data, pad with zeros\n",
        "          pad_size = (B * T + 1) - len(buf)\n",
        "          buf = torch.cat([buf, torch.zeros(pad_size, dtype=buf.dtype)], dim=0)\n",
        "\n",
        "      x = buf[:-1].view(B, T)\n",
        "      y = buf[1:].view(B, T)\n",
        "      return x, y\n",
        "\n",
        "\n",
        "# Initialize Model and Optimizer\n",
        "device = torch.device(\"cuda\" if torch.cuda.is_available() else \"cpu\")\n",
        "model = GPT(GPTConfig())  # Replace with your GPT model initialization\n",
        "model.to(device)\n",
        "optimizer = torch.optim.AdamW(model.parameters(), lr=3e-4)\n",
        "\n",
        "# Mixed Precision setup\n",
        "scaler = GradScaler()\n",
        "\n",
        "# Number of Parameters\n",
        "num_params = sum(p.numel() for p in model.parameters() if p.requires_grad)\n",
        "print(f\"Number of trainable parameters: {num_params:,}\")\n",
        "\n",
        "# Checkpoint and Logs\n",
        "os.makedirs(\"checkpoints\", exist_ok=True)\n",
        "os.makedirs(\"logs\", exist_ok=True)\n",
        "log_file = \"logs/training_log.txt\"\n",
        "\n",
        "# DataLoaderLite (Replace with your data loader)\n",
        "train_loader = DataLoaderLite(B=8, T=256, data_path=\"/content/input.txt\")  # Adjust batch size and sequence length\n",
        "\n",
        "# Training Loop\n",
        "max_epochs = 200\n",
        "extra_epochs = 5\n",
        "loss_threshold = 0.099999\n",
        "training_complete = False\n",
        "loss_history = []\n",
        "with open(log_file, \"w\") as log:\n",
        "    for epoch in range(max_epochs):\n",
        "        epoch_loss = 0.0\n",
        "        epoch_accuracy = 0.0  # Initialize total accuracy for the epoch\n",
        "        batches = tqdm(range(len(train_loader.tokens) // (train_loader.B * train_loader.T)))\n",
        "\n",
        "        for _ in batches:\n",
        "            x, y = train_loader.next_batch()\n",
        "            x, y = x.to(device), y.to(device)\n",
        "            optimizer.zero_grad()\n",
        "\n",
        "            # Mixed Precision training\n",
        "            with autocast():\n",
        "                logits, loss = model(x, y)\n",
        "\n",
        "            # Calculate accuracy for the batch\n",
        "            _, predictions = logits.max(dim=-1)  # Get the class with the highest probability\n",
        "            correct = (predictions == y).float()  # Compare predicted and true classes\n",
        "            accuracy = correct.sum() / correct.numel()  # Compute the accuracy for the batch\n",
        "\n",
        "            scaler.scale(loss).backward()\n",
        "            scaler.step(optimizer)\n",
        "            scaler.update()\n",
        "\n",
        "            epoch_loss += loss.item()\n",
        "            epoch_accuracy += accuracy.item()  # Accumulate accuracy for the epoch\n",
        "\n",
        "            batches.set_description(f\"Epoch {epoch+1}/{max_epochs} - Loss: {loss.item():.6f} - Accuracy: {accuracy.item()*100:.2f}%\")\n",
        "\n",
        "        # Average Loss and Accuracy for the Epoch\n",
        "        avg_loss = epoch_loss / len(batches)\n",
        "        avg_accuracy = epoch_accuracy / len(batches)  # Compute average accuracy for the epoch\n",
        "\n",
        "        # Log the epoch's loss and accuracy\n",
        "        log.write(f\"Epoch {epoch+1}: Loss = {avg_loss:.6f}, Accuracy = {avg_accuracy*100:.2f}%\\n\")\n",
        "        print(f\"Epoch {epoch+1} Complete: Average Loss = {avg_loss:.6f}, Average Accuracy = {avg_accuracy*100:.2f}%\")\n",
        "\n",
        "        # Save Model for Even Epochs\n",
        "        if (epoch + 1) % 2 == 0:\n",
        "            torch.save(model.state_dict(), f\"checkpoints/model_epoch_{epoch+1}.pt\")\n",
        "            print(f\"Model saved after Epoch {epoch+1}\")\n",
        "\n",
        "        # Check if Threshold is Met\n",
        "        if avg_loss < loss_threshold and not training_complete:\n",
        "            print(f\"Loss below threshold ({loss_threshold}). Continuing for {extra_epochs} extra epochs.\")\n",
        "            max_epochs += extra_epochs\n",
        "            training_complete = True\n"
      ]
    },
    {
      "cell_type": "code",
      "source": [
        "from google.colab import files\n",
        "files.download('/content/checkpoints/model_epoch_168.pt')  # Replace with the actual file path\n"
      ],
      "metadata": {
        "colab": {
          "base_uri": "https://localhost:8080/",
          "height": 34
        },
        "id": "bfjcjEDfQbQL",
        "outputId": "13ca9ffb-38ec-43ba-b19e-3dfa400b0a09"
      },
      "execution_count": null,
      "outputs": [
        {
          "output_type": "display_data",
          "data": {
            "text/plain": [
              "<IPython.core.display.Javascript object>"
            ],
            "application/javascript": [
              "\n",
              "    async function download(id, filename, size) {\n",
              "      if (!google.colab.kernel.accessAllowed) {\n",
              "        return;\n",
              "      }\n",
              "      const div = document.createElement('div');\n",
              "      const label = document.createElement('label');\n",
              "      label.textContent = `Downloading \"${filename}\": `;\n",
              "      div.appendChild(label);\n",
              "      const progress = document.createElement('progress');\n",
              "      progress.max = size;\n",
              "      div.appendChild(progress);\n",
              "      document.body.appendChild(div);\n",
              "\n",
              "      const buffers = [];\n",
              "      let downloaded = 0;\n",
              "\n",
              "      const channel = await google.colab.kernel.comms.open(id);\n",
              "      // Send a message to notify the kernel that we're ready.\n",
              "      channel.send({})\n",
              "\n",
              "      for await (const message of channel.messages) {\n",
              "        // Send a message to notify the kernel that we're ready.\n",
              "        channel.send({})\n",
              "        if (message.buffers) {\n",
              "          for (const buffer of message.buffers) {\n",
              "            buffers.push(buffer);\n",
              "            downloaded += buffer.byteLength;\n",
              "            progress.value = downloaded;\n",
              "          }\n",
              "        }\n",
              "      }\n",
              "      const blob = new Blob(buffers, {type: 'application/binary'});\n",
              "      const a = document.createElement('a');\n",
              "      a.href = window.URL.createObjectURL(blob);\n",
              "      a.download = filename;\n",
              "      div.appendChild(a);\n",
              "      a.click();\n",
              "      div.remove();\n",
              "    }\n",
              "  "
            ]
          },
          "metadata": {}
        },
        {
          "output_type": "display_data",
          "data": {
            "text/plain": [
              "<IPython.core.display.Javascript object>"
            ],
            "application/javascript": [
              "download(\"download_95a0778d-1889-45e2-a381-538b45037f7c\", \"model_epoch_168.pt\", 865064338)"
            ]
          },
          "metadata": {}
        }
      ]
    },
    {
      "cell_type": "code",
      "source": [],
      "metadata": {
        "id": "vvEN8egyqlAe"
      },
      "execution_count": null,
      "outputs": []
    }
  ]
}
